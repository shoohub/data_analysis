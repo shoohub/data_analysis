{
 "cells": [
  {
   "cell_type": "markdown",
   "metadata": {},
   "source": [
    "# ファイル名を変更\n",
    "ヘッダーの「Untiled」をクリックするとファイル名を変更できる。"
   ]
  },
  {
   "cell_type": "markdown",
   "metadata": {},
   "source": [
    "# セルの実行\n",
    "__「Shift」＋「Enter」__で選択中のセルを実行する。"
   ]
  },
  {
   "cell_type": "code",
   "execution_count": 19,
   "metadata": {
    "scrolled": true
   },
   "outputs": [
    {
     "name": "stdout",
     "output_type": "stream",
     "text": [
      "Hello World!\n"
     ]
    }
   ],
   "source": [
    "print(\"Hello World!\")"
   ]
  },
  {
   "cell_type": "markdown",
   "metadata": {},
   "source": [
    "# 変数の変化と内容確認\n",
    "Jupyter Notebookでは、セル単位で処理を実行できる。\n",
    "そのため、コードが書かれている場所にかかわらず、変数の内容が意図しないように変わることがある。\n",
    "\n",
    "変数の内容を確認するには、\n",
    "`x?`\n",
    "のように、変数の後ろに「？」をつける。"
   ]
  },
  {
   "cell_type": "code",
   "execution_count": 11,
   "metadata": {},
   "outputs": [],
   "source": [
    "x = 0 "
   ]
  },
  {
   "cell_type": "code",
   "execution_count": 18,
   "metadata": {},
   "outputs": [
    {
     "name": "stdout",
     "output_type": "stream",
     "text": [
      "1\n"
     ]
    }
   ],
   "source": [
    "print(x)"
   ]
  },
  {
   "cell_type": "code",
   "execution_count": 15,
   "metadata": {},
   "outputs": [],
   "source": [
    "x = 1"
   ]
  },
  {
   "cell_type": "code",
   "execution_count": 16,
   "metadata": {},
   "outputs": [
    {
     "name": "stdout",
     "output_type": "stream",
     "text": [
      "1\n"
     ]
    }
   ],
   "source": [
    "print(x)"
   ]
  },
  {
   "cell_type": "code",
   "execution_count": 10,
   "metadata": {},
   "outputs": [],
   "source": [
    "x?"
   ]
  },
  {
   "cell_type": "markdown",
   "metadata": {},
   "source": [
    "# コード補完\n",
    "コードの入力途中に「Tab」キーを押すと、コード補完を行ってくれます。タイプミスを避けるためにも積極的に使いましょう。"
   ]
  },
  {
   "cell_type": "code",
   "execution_count": 22,
   "metadata": {},
   "outputs": [
    {
     "name": "stdout",
     "output_type": "stream",
     "text": [
      "[[1 2]\n",
      " [3 4]]\n"
     ]
    }
   ],
   "source": [
    "import numpy as np\n",
    "array = np.array([1, 2, 3, 4]).reshape(2, 2)\n",
    "print(array)"
   ]
  },
  {
   "cell_type": "markdown",
   "metadata": {},
   "source": [
    "# エディットモードとコマンドモード\n",
    "エディットモードでは、セルの枠の左側が緑色になる。\n",
    "![エディットモード](001.png)\n",
    "\n",
    "コマンドモードでは、青色になる。\n",
    "![コマンドモード](002.png)"
   ]
  },
  {
   "cell_type": "markdown",
   "metadata": {},
   "source": [
    "# 便利なショートカット（エディットモード）\n",
    "\n",
    "\n",
    "- 「Ctrl + Z」: アンドゥ（取り消し）  \n",
    "- 「Ctrl + Shift + Z」: リドゥ（取り消した内容を再実行）  \n",
    "- 「Esc」：　コマンドモードへ移行\n"
   ]
  },
  {
   "cell_type": "markdown",
   "metadata": {},
   "source": [
    "# 便利なショートカット（コマンドモード）\n",
    "\n",
    "- 「A」：　選択中のセルの上に新しいセルを挿入。\n",
    "- 「B」：　選択中のセルの下に新しいセルを挿入。\n",
    "- 「DD」：　選択中のセルを削除。\n",
    "- 「Y」：　Codeタイプに移行。\n",
    "- 「M」：　Markdownタイプに移行。\n",
    "- 「H」：　ショートカット一覧を表示\n",
    "- 「Enter」：　エディットモードに移行。"
   ]
  },
  {
   "cell_type": "markdown",
   "metadata": {},
   "source": [
    "# ツールバーの機能\n",
    "\n",
    "\n",
    "1.　保存：　ファイルを上書き保存する。\n",
    "\n",
    "2.　セルの追加：　選択中のセルの__下に__新たなセルを追加する。\n",
    "\n",
    "3.　カット：　選択中のセルを切り取る。\n",
    "\n",
    "4.　コピー：　選択中のセルをコピーする。\n",
    "\n",
    "5.　ペースト：　コピー（またはカット）したセルを、選択中のセルの__下に__貼り付ける。\n",
    "\n",
    "6.　上へ：　選択中のセルを１つ上に移動する。\n",
    "\n",
    "7.　下へ：　選択中のセルを１つ下に移動する。\n",
    "\n",
    "8.　実行：　選択中のセルを実行する。\n",
    "\n",
    "9.　中断：　セルが実行中である場合、それを中断する。\n",
    "\n",
    "10.　再起動：　カーネルを再起動する。\n",
    "\n",
    "11.　再起動と全実行：　カーネルを再起動して、全てのセルを実行する。\n"
   ]
  },
  {
   "cell_type": "markdown",
   "metadata": {},
   "source": [
    "# Markdownが記述できる\n",
    "Jupyter Notebookでは、Markdownと呼ばれるマークアップ言語を記述することができます。\n",
    "\n",
    "Markdownを使ってコメントを書くと、通常#を使ってコメントを書くよりもより綺麗に書くことができます。"
   ]
  },
  {
   "cell_type": "markdown",
   "metadata": {},
   "source": [
    "# 見出し１\n",
    "\n",
    "こんなふうに記述します。\n",
    "\n",
    "- 箇条書き１\n",
    "- 箇条書き２\n",
    "- 箇条書き３\n",
    "\n",
    "__太字__や*イタリック*でも記述できます。\n",
    "\n",
    "コードを記述したり、\n",
    "\n",
    "`print('Hello　World!')`\n",
    "\n",
    "リンクを記述したり、\n",
    "\n",
    "[Markdown書き方メモ](https://qiita.com/Minalinsky_1911/items/b684cfabe0f2fde0c67b)\n",
    "\n",
    "引用することも可能です。\n",
    "> 吾輩は猫である。\n",
    "\n",
    "このように記述するには、以下のように書きます。"
   ]
  },
  {
   "cell_type": "code",
   "execution_count": null,
   "metadata": {},
   "outputs": [],
   "source": [
    "# 見出し１\n",
    "\n",
    "こんなふうに記述します。\n",
    "\n",
    "- 箇条書き１\n",
    "- 箇条書き２\n",
    "- 箇条書き３\n",
    "\n",
    "__太字__や*イタリック*でも記述できます。\n",
    "\n",
    "コードを記述したり、\n",
    "\n",
    "`print('Hello　World!')`\n",
    "\n",
    "リンクを記述したり、\n",
    "\n",
    "[Markdown書き方メモ](https://qiita.com/Minalinsky_1911/items/b684cfabe0f2fde0c67b)\n",
    "\n",
    "引用することも可能です。\n",
    "\n",
    "> 吾輩は猫である。"
   ]
  },
  {
   "cell_type": "markdown",
   "metadata": {},
   "source": [
    "# 数式を記述\n",
    "\n",
    "LaTeXによって数式を記述することができます。\n",
    "\n",
    "$$x^2-2x+1 = 0$$\n",
    "\n",
    "$$E_n=-\\sum_{k}t_{nk}\\ln{y_{nk}}$$"
   ]
  },
  {
   "cell_type": "code",
   "execution_count": null,
   "metadata": {},
   "outputs": [],
   "source": []
  }
 ],
 "metadata": {
  "kernelspec": {
   "display_name": "Python 3",
   "language": "python",
   "name": "python3"
  },
  "language_info": {
   "codemirror_mode": {
    "name": "ipython",
    "version": 3
   },
   "file_extension": ".py",
   "mimetype": "text/x-python",
   "name": "python",
   "nbconvert_exporter": "python",
   "pygments_lexer": "ipython3",
   "version": "3.6.4"
  }
 },
 "nbformat": 4,
 "nbformat_minor": 2
}
