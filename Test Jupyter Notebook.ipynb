{
 "cells": [
  {
   "cell_type": "code",
   "execution_count": null,
   "id": "684d2035-4395-4c2f-99b8-c418efe51339",
   "metadata": {},
   "outputs": [
    {
     "ename": "",
     "evalue": "",
     "output_type": "error",
     "traceback": [
      "\u001b[1;31mRunning cells with 'Python 3.12.6' requires the ipykernel package.\n",
      "\u001b[1;31mRun the following command to install 'ipykernel' into the Python environment. \n",
      "\u001b[1;31mCommand: '/opt/homebrew/bin/python3 -m pip install ipykernel -U --user --force-reinstall'"
     ]
    }
   ],
   "source": [
    "print(123)"
   ]
  },
  {
   "cell_type": "markdown",
   "id": "57357a65-45e9-4dfe-b983-a100c990318c",
   "metadata": {},
   "source": [
    "**今回のカテゴリはSecretです。外部公開不可なので注意。**"
   ]
  },
  {
   "cell_type": "markdown",
   "id": "cdb40a0d-6d61-4869-8851-37d8e303e27a",
   "metadata": {},
   "source": [
    "# テスト手順"
   ]
  },
  {
   "cell_type": "code",
   "execution_count": null,
   "id": "9150794b-f0f3-4c1f-b4ce-f6590beed0d2",
   "metadata": {},
   "outputs": [],
   "source": []
  }
 ],
 "metadata": {
  "kernelspec": {
   "display_name": "Python 3 (ipykernel)",
   "language": "python",
   "name": "python3"
  },
  "language_info": {
   "codemirror_mode": {
    "name": "ipython",
    "version": 3
   },
   "file_extension": ".py",
   "mimetype": "text/x-python",
   "name": "python",
   "nbconvert_exporter": "python",
   "pygments_lexer": "ipython3",
   "version": "3.12.6"
  }
 },
 "nbformat": 4,
 "nbformat_minor": 5
}
